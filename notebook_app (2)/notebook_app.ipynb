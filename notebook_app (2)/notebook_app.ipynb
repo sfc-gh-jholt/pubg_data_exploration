{
 "metadata": {
  "kernelspec": {
   "display_name": "Streamlit Notebook",
   "name": "streamlit"
  }
 },
 "nbformat_minor": 5,
 "nbformat": 4,
 "cells": [
  {
   "cell_type": "markdown",
   "id": "7402f58c-556e-42a8-bf5d-e94e58ad6186",
   "metadata": {
    "collapsed": false,
    "name": "Intro"
   },
   "source": [
    "![Game Data Exploration](https://sfc-gh-jholt.github.io/jgh-images/banner.jpeg)\n"
   ]
  },
  {
   "cell_type": "code",
   "execution_count": null,
   "id": "ffe610d3-2e5d-4da6-a6ad-cdacc2d8277b",
   "metadata": {
    "collapsed": false,
    "language": "python",
    "name": "ImportPackage"
   },
   "outputs": [],
   "source": [
    "import modin.pandas as pd\n",
    "import snowflake.snowpark.modin.plugin\n",
    "from snowflake.snowpark.context import get_active_session\n",
    "import streamlit as st\n",
    "from snowflake.snowpark import Session\n",
    "import numpy as np\n",
    "import matplotlib.pyplot as plt\n",
    "import seaborn as sns\n",
    "import warnings\n",
    "from PIL import Image\n",
    "\n",
    "warnings.filterwarnings('ignore', category=UserWarning, module=\"snowpark.modin.plugin.utils\")"
   ]
  },
  {
   "cell_type": "code",
   "execution_count": null,
   "id": "5f3ab1cc-6617-4aba-9a34-507e83d2567a",
   "metadata": {
    "name": "cell4",
    "language": "python"
   },
   "outputs": [],
   "source": [
    "# This cell imports necessary libraries and sets up the environment\n",
    "from snowflake.snowpark.context import get_active_session\n",
    "import streamlit as st\n",
    "from snowflake.snowpark import Session\n",
    "import numpy as np\n",
    "import seaborn as sns\n",
    "import warnings\n",
    "from PIL import Image\n",
    "\n",
    "\n",
    "import modin.pandas as pd\n",
    "import snowflake.snowpark.modin.plugin\n",
    "import matplotlib.pyplot as plt\n",
    "\n",
    "warnings.filterwarnings('ignore', category=UserWarning, module=\"snowpark.modin.plugin.utils\")"
   ]
  },
  {
   "cell_type": "code",
   "execution_count": null,
   "id": "4b75beb2-882e-426c-be89-a3f36493df7f",
   "metadata": {
    "collapsed": false,
    "language": "python",
    "name": "DefinePandasAPIDF"
   },
   "outputs": [],
   "source": [
    "session = get_active_session()\n",
    "df = pd.read_snowflake(\"gamestats\")"
   ]
  },
  {
   "cell_type": "code",
   "execution_count": null,
   "id": "f303592a-d4d6-42c3-9f24-68504b346ca8",
   "metadata": {
    "collapsed": false,
    "language": "python",
    "name": "cell2"
   },
   "outputs": [],
   "source": [
    "# Count unique values in each column\n",
    "unique_counts = df.nunique()\n",
    "\n",
    "# Display the unique counts\n",
    "print(\"Unique counts in each column:\")\n",
    "print(unique_counts)"
   ]
  },
  {
   "cell_type": "code",
   "execution_count": null,
   "id": "dadab822-92f4-4307-913f-fa176b4a1b3a",
   "metadata": {
    "collapsed": false,
    "language": "python",
    "name": "PrintDF"
   },
   "outputs": [],
   "source": [
    "st.dataframe(df.head())"
   ]
  },
  {
   "cell_type": "code",
   "execution_count": null,
   "id": "0c0f12cb-c3a7-4ff8-aa86-44e089c2b4c3",
   "metadata": {
    "collapsed": false,
    "language": "python",
    "name": "ShowColumns"
   },
   "outputs": [],
   "source": [
    "df.columns\n"
   ]
  },
  {
   "cell_type": "code",
   "execution_count": null,
   "id": "0ae98a34-b109-41ec-80ad-5019fd04d4da",
   "metadata": {
    "collapsed": false,
    "language": "python",
    "name": "DropNumberColumn"
   },
   "outputs": [],
   "source": [
    "df = df.drop(['NUMBER'], axis=1)  # Adjust based on actual column name\n"
   ]
  },
  {
   "cell_type": "code",
   "execution_count": null,
   "id": "bf3c002b-7ead-46bf-af3f-4bd81a67a36b",
   "metadata": {
    "collapsed": false,
    "language": "python",
    "name": "ShowNewDf"
   },
   "outputs": [],
   "source": [
    "st.dataframe(df.head())"
   ]
  },
  {
   "cell_type": "code",
   "execution_count": null,
   "id": "948e8e21-48b5-4dde-a1cb-cd247ac76f51",
   "metadata": {
    "collapsed": false,
    "language": "python",
    "name": "PrintShape"
   },
   "outputs": [],
   "source": [
    "print('shape of the dataset=', df.shape)\n",
    "\n",
    "print(' \\nThe null count of each column of the dataset are as follows:')\n",
    "df.isnull().sum()"
   ]
  },
  {
   "cell_type": "code",
   "execution_count": null,
   "id": "b21b6161-75b4-4dab-93ad-ebefcde0504e",
   "metadata": {
    "collapsed": false,
    "language": "python",
    "name": "ViewNulls"
   },
   "outputs": [],
   "source": [
    "# To view the null row from the dataset:\n",
    "\n",
    "df[df['WINPLACEPERC'].isnull() == True]"
   ]
  },
  {
   "cell_type": "code",
   "execution_count": null,
   "id": "706dd749-bc79-4f77-8a1c-f3e7495515e8",
   "metadata": {
    "collapsed": false,
    "language": "python",
    "name": "DropNulls"
   },
   "outputs": [],
   "source": [
    "df = df.dropna(subset=['WINPLACEPERC'])  # Drop rows with NaN values in 'WINPLACEPERC'"
   ]
  },
  {
   "cell_type": "code",
   "execution_count": null,
   "id": "0b4f40c3-411a-4a60-b532-fbca55496def",
   "metadata": {
    "collapsed": false,
    "language": "python",
    "name": "DefineFeatures"
   },
   "outputs": [],
   "source": [
    "# Function to identify numeric features\n",
    "def numeric_features(dataset):\n",
    "    numeric_col = dataset.select_dtypes(include=np.number).columns.tolist()\n",
    "    return dataset[numeric_col].head()\n",
    "\n",
    "# Function to identify categorical features\n",
    "def categorical_features(dataset):\n",
    "    categorical_col = dataset.select_dtypes(exclude=np.number).columns.tolist()\n",
    "    return dataset[categorical_col].head()\n",
    "\n",
    "# Function to check the datatypes of all the columns\n",
    "def check_datatypes(dataset):\n",
    "    return dataset.dtypes\n",
    "\n",
    "# Load your DataFrame (assuming 'df' is already loaded from Snowflake or other source)\n",
    "# Displaying in Streamlit:\n",
    "\n",
    "# Title\n",
    "st.title(\"Dataframe Overview\")\n",
    "\n",
    "# Display Numerical Features\n",
    "numeric_columns = numeric_features(df)\n",
    "st.subheader(\"Numerical Features\")\n",
    "st.dataframe(numeric_columns)  # Streamlit dataframe for better display\n",
    "\n",
    "# Separator\n",
    "st.write(\"====\" * 20)\n",
    "\n",
    "# Display Categorical Features\n",
    "categorical_columns = categorical_features(df)\n",
    "st.subheader(\"Categorical Features\")\n",
    "st.dataframe(categorical_columns)\n",
    "\n",
    "# Separator\n",
    "st.write(\"====\" * 20)\n",
    "\n"
   ]
  },
  {
   "cell_type": "code",
   "execution_count": null,
   "id": "e11de291-5bed-4702-bfda-d9d44f8d4cd4",
   "metadata": {
    "collapsed": false,
    "language": "python",
    "name": "DefineOutlierColumns"
   },
   "outputs": [],
   "source": [
    "\n",
    "# Function to detect outliers in every feature\n",
    "def detect_outliers(df):\n",
    "    cols = list(df)\n",
    "    outliers_list = []  # Use a list to store the rows first\n",
    "    \n",
    "    for column in cols:\n",
    "        # Check if the column is numeric\n",
    "        if column in df.select_dtypes(include=np.number).columns:\n",
    "            q1 = df[column].quantile(0.25)  # First quartile\n",
    "            q3 = df[column].quantile(0.75)  # Third quartile\n",
    "            iqr = q3 - q1  # Interquartile range\n",
    "            fence_low = q1 - (1.5 * iqr)\n",
    "            fence_high = q3 + (1.5 * iqr)\n",
    "            \n",
    "            # Count the number of outliers\n",
    "            num_outliers = df.loc[(df[column] < fence_low) | (df[column] > fence_high)].shape[0]\n",
    "            \n",
    "            # Append the result as a dictionary to the list\n",
    "            outliers_list.append({'Feature': column, 'Number of Outliers': num_outliers})\n",
    "    \n",
    "    # Convert the list of dictionaries into a DataFrame\n",
    "    outliers_df = pd.DataFrame(outliers_list)\n",
    "    \n",
    "    return outliers_df\n",
    "\n",
    "# Assuming 'df' is already loaded and contains your data\n",
    "st.title(\"Outliers Detection\")\n",
    "\n",
    "# Detect outliers\n",
    "outliers_df = detect_outliers(df)\n",
    "\n",
    "# Display outliers in a Streamlit DataFrame\n",
    "st.subheader(\"Outliers per Feature\")\n",
    "st.dataframe(outliers_df)\n"
   ]
  },
  {
   "cell_type": "markdown",
   "id": "844126df-1910-47e8-a0bd-64551cff41bb",
   "metadata": {
    "collapsed": false,
    "name": "cell1"
   },
   "source": [
    "| ![Image 1](https://sfc-gh-jholt.github.io/jgh-images/gif1.gif) | \n",
    "\n",
    "\n"
   ]
  },
  {
   "cell_type": "code",
   "execution_count": null,
   "id": "68dddc0f-f4ac-4d67-b9d3-dfe5d593cddf",
   "metadata": {
    "collapsed": false,
    "language": "python",
    "name": "KillsDistrobution"
   },
   "outputs": [],
   "source": [
    "# Assuming df['KILLS'] contains the data\n",
    "\n",
    "# Summary statistics for the number of KILLS\n",
    "kills_stats = {\n",
    "    'Statistic': ['Average Kills', '50th Percentile (Median)', '75th Percentile', '99th Percentile', 'Maximum Kills'],\n",
    "    'Value': [\n",
    "        '{:.4f}'.format(df['KILLS'].mean()),\n",
    "        df['KILLS'].quantile(0.50),\n",
    "        df['KILLS'].quantile(0.75),\n",
    "        df['KILLS'].quantile(0.99),\n",
    "        df['KILLS'].max()\n",
    "    ]\n",
    "}\n",
    "\n",
    "# Convert to a DataFrame\n",
    "kills_stats_df = pd.DataFrame(kills_stats)\n",
    "\n",
    "# Display in Streamlit\n",
    "st.title(\"Summary Statistics for KILLS\")\n",
    "st.dataframe(kills_stats_df)"
   ]
  },
  {
   "cell_type": "code",
   "execution_count": null,
   "id": "8b7e600b-1579-4871-8f8e-10df9f6507d5",
   "metadata": {
    "collapsed": false,
    "language": "python",
    "name": "KillsCountPlayers"
   },
   "outputs": [],
   "source": [
    "from snowflake.snowpark.functions import col, when, approx_percentile\n",
    "\n",
    "\n",
    "\n",
    "# Assuming session is already established\n",
    "# Step 1: Calculate the 99th percentile of the 'KILLS' column\n",
    "percentile_99_value = session.table(\"gamestats\").select(approx_percentile(col('KILLS'), 0.99)).collect()[0][0]\n",
    "\n",
    "# Step 2: Retrieve the original Snowpark DataFrame\n",
    "snowpark_df = session.table(\"gamestats\")\n",
    "\n",
    "# Step 3: Create a new column 'KILLS_CATEGORIZED' to categorize kills greater than the 99th percentile\n",
    "df_with_kills_categorized = snowpark_df.with_column(\n",
    "    'KILLS_CATEGORIZED',\n",
    "    when(col('KILLS') > percentile_99_value, '8+').otherwise(col('KILLS').cast('string'))\n",
    ")\n",
    "\n",
    "# Step 4: Convert the Snowpark DataFrame to a Pandas DataFrame for plotting\n",
    "pandas_df = df_with_kills_categorized.to_pandas()\n",
    "\n",
    "# Step 5: Plot the data using Seaborn\n",
    "plt.figure(figsize=(20, 15))\n",
    "sns.countplot(x=pandas_df['KILLS_CATEGORIZED'].astype(str).sort_values())  # Convert to string for plotting\n",
    "plt.title('Kill Count', fontsize=15)\n",
    "plt.xlabel('KILLS', fontsize=15)\n",
    "plt.ylabel('Count', fontsize=13)\n",
    "\n",
    "# Step 6: Display the plot in Streamlit\n",
    "st.pyplot(plt)\n",
    "\n",
    "# Step 7: Clear the figure to avoid duplication\n",
    "plt.clf()\n",
    "plt.close()"
   ]
  },
  {
   "cell_type": "code",
   "execution_count": null,
   "id": "8b413597-1a40-4135-9c6a-3de1334656e1",
   "metadata": {
    "collapsed": false,
    "language": "python",
    "name": "KillsStreaks"
   },
   "outputs": [],
   "source": [
    "\n",
    "average_kills = df['KILLSTREAKS'].mean()\n",
    "median_kills = df['KILLSTREAKS'].quantile(0.50)\n",
    "kills_75_percentile = df['KILLSTREAKS'].quantile(0.75)\n",
    "kills_99_percentile = df['KILLSTREAKS'].quantile(0.99)\n",
    "max_kills = df['KILLSTREAKS'].max()\n",
    "\n",
    "# Step 1: Display the statistics using Streamlit's st.write()\n",
    "st.write(f'The average person kills {average_kills:.4f} players in a short time.')\n",
    "st.write(f'50% of people have {median_kills} kills or less in a short time.')\n",
    "st.write(f'75% of people have {kills_75_percentile} kills or less in a short time.')\n",
    "st.write(f'99% of people have {kills_99_percentile} kills or less in a short time.')\n",
    "st.write(f'While the most kills in a row recorded in the data is {max_kills}.')"
   ]
  },
  {
   "cell_type": "code",
   "execution_count": null,
   "id": "ee8a46f6-c9ac-4799-8b23-bda688d4955d",
   "metadata": {
    "collapsed": false,
    "language": "python",
    "name": "ChartStreak"
   },
   "outputs": [],
   "source": [
    "\n",
    "# Assuming df is already loaded\n",
    "\n",
    "\n",
    "# Step 1: Calculate the 99th percentile for 'KILLSTREAKS'\n",
    "percentile_99_value = session.table(\"gamestats\").select(approx_percentile(col('KILLSTREAKS'), 0.99)).collect()[0][0]\n",
    "\n",
    "# Step 2: Retrieve the original Snowpark DataFrame\n",
    "snowpark_df = session.table(\"gamestats\")\n",
    "\n",
    "# Step 3: Use SQL-style transformations to categorize 'KILLSTREAKS' above the 99th percentile\n",
    "df_with_killstreaks_categorized = snowpark_df.with_column(\n",
    "    'KILLSTREAKS_CATEGORIZED',\n",
    "    when(col('KILLSTREAKS') > percentile_99_value, '4+').otherwise(col('KILLSTREAKS').cast('string'))\n",
    ")\n",
    "\n",
    "# Step 4: Convert the Snowpark DataFrame to Pandas for visualization\n",
    "pandas_df = df_with_killstreaks_categorized.to_pandas()\n",
    "\n",
    "# Step 5: Plot the data using Seaborn\n",
    "plt.figure(figsize=(20, 15))\n",
    "sns.countplot(x=pandas_df['KILLSTREAKS_CATEGORIZED'].sort_values())\n",
    "plt.title('Kill Count', fontsize=15)\n",
    "plt.xlabel('KILLSTREAKS', fontsize=15)\n",
    "plt.ylabel('Count', fontsize=13)\n",
    "\n",
    "# Step 6: Display the plot in Streamlit\n",
    "st.pyplot(plt)"
   ]
  },
  {
   "cell_type": "code",
   "execution_count": null,
   "id": "ff037f59-4795-4afe-9710-9755c0ee022e",
   "metadata": {
    "collapsed": false,
    "language": "python",
    "name": "MatchTypesCount"
   },
   "outputs": [],
   "source": [
    "\n",
    "# Assuming df is a Pandas DataFrame\n",
    "# Get the value counts of the 'MATCHTYPE' column\n",
    "matchtype_counts = df['MATCHTYPE'].value_counts().reset_index()\n",
    "\n",
    "# Rename the columns for better readability\n",
    "matchtype_counts.columns = ['Match Type', 'Count']\n",
    "\n",
    "# Step 1: Display the table in Streamlit using st.write or st.dataframe\n",
    "st.write(\"### Match Type Counts\")\n",
    "st.dataframe(matchtype_counts)"
   ]
  },
  {
   "cell_type": "code",
   "execution_count": null,
   "id": "e7c9dc23-58de-485e-8ecb-c9ee51544a57",
   "metadata": {
    "collapsed": false,
    "language": "python",
    "name": "MatchTypeGraph"
   },
   "outputs": [],
   "source": [
    "\n",
    "# Step 1: Set the plot size\n",
    "plt.figure(figsize=(20, 15))\n",
    "\n",
    "# Step 2: Create a countplot for 'MATCHTYPE' with logarithmic scaling on the y-axis\n",
    "sns.countplot(x=df['MATCHTYPE'], hue=df['MATCHTYPE'], palette=\"Set2\", legend=False)\n",
    "\n",
    "# Step 3: Customize the plot\n",
    "plt.title('Match Type with Log Scale', fontsize=15)\n",
    "plt.xlabel('Match Type', fontsize=15)\n",
    "plt.ylabel('Count (log scale)', fontsize=13)\n",
    "\n",
    "# Step 4: Set the y-axis to logarithmic scale\n",
    "plt.yscale('log')\n",
    "\n",
    "# Step 5: Display the plot in Streamlit\n",
    "st.pyplot(plt)\n"
   ]
  },
  {
   "cell_type": "code",
   "execution_count": null,
   "id": "d3d5ea63-7c8f-43dd-a086-b1220e3c6dfe",
   "metadata": {
    "collapsed": false,
    "language": "python",
    "name": "DamageByNonLethalPlayers"
   },
   "outputs": [],
   "source": [
    "import pandas as pan\n",
    "\n",
    "\n",
    "# Step 1: Load the data from Snowpark and convert it to a Pandas DataFrame\n",
    "data = session.table(\"gamestats\").to_pandas()\n",
    "\n",
    "# Step 2: Convert all column names to uppercase for consistency\n",
    "data.columns = [col.upper() for col in data.columns]\n",
    "\n",
    "# Step 3: Keep only those players that didn't kill anyone\n",
    "data = data[data['KILLS'] == 0]\n",
    "\n",
    "# Step 4: Ensure 'DAMAGEDEALT' is numeric and handle NaNs or non-numeric values\n",
    "data['DAMAGEDEALT'] = pan.to_numeric(data['DAMAGEDEALT'], errors='coerce').fillna(0)\n",
    "\n",
    "# Step 5: Apply logarithmic transformation to 'DAMAGEDEALT' to reduce skew\n",
    "data['LOG_DAMAGEDEALT'] = np.log1p(data['DAMAGEDEALT'])  # log1p handles log(0) gracefully\n",
    "\n",
    "# Step 6: Plot the distribution of log-transformed 'DAMAGEDEALT' using histplot\n",
    "plt.figure(figsize=(15, 10))\n",
    "plt.title('Log-Scaled Damage Dealt by 0 Killers', fontsize=15)\n",
    "\n",
    "# Use histplot to plot the distribution\n",
    "sns.histplot(data['LOG_DAMAGEDEALT'], kde=True, bins=30)\n",
    "plt.xlabel('Log Damage Dealt', fontsize=15)\n",
    "plt.ylabel('Density', fontsize=13)\n",
    "\n",
    "# Step 7: Display the plot in Streamlit\n",
    "st.pyplot(plt)"
   ]
  },
  {
   "cell_type": "code",
   "execution_count": null,
   "id": "55d454cb-f8bb-4c53-8877-868fa75501bf",
   "metadata": {
    "collapsed": false,
    "language": "python",
    "name": "MatchDurationForWinners"
   },
   "outputs": [],
   "source": [
    "\n",
    "# Step 1: Ensure 'WINPLACEPERC' is numeric and handle any missing values\n",
    "data['WINPLACEPERC'] = pan.to_numeric(data['WINPLACEPERC'], errors='coerce')  # Convert to numeric, invalid entries become NaN\n",
    "\n",
    "\n",
    "# Step 2: Keep only the players that won the match (WINPLACEPERC == 1)\n",
    "data = data[data['WINPLACEPERC'] == 1]\n",
    "\n",
    "# Step 3: Set up the plot\n",
    "plt.figure(figsize=(15, 10))\n",
    "plt.title('Match Duration for Winners', fontsize=15)\n",
    "\n",
    "# Step 4: Create the histogram plot for 'MATCHDURATION'\n",
    "sns.histplot(data['MATCHDURATION'], kde=False)\n",
    "\n",
    "# Step 5: Label the axes\n",
    "plt.xlabel('Match Duration', fontsize=15)\n",
    "plt.ylabel('Density', fontsize=13)\n",
    "\n",
    "# Step 6: Display the plot in Streamlit\n",
    "st.pyplot(plt)\n",
    "\n",
    "\n",
    "# Step 7: Clear the figure to avoid duplication\n",
    "plt.clf()\n",
    "plt.close()"
   ]
  },
  {
   "cell_type": "code",
   "execution_count": null,
   "id": "e2a58686-25de-4dfd-9bb6-87e6b8c2bbfa",
   "metadata": {
    "collapsed": false,
    "language": "python",
    "name": "StreakOverWins"
   },
   "outputs": [],
   "source": [
    "# Step 1: Load the data from Snowflake into a Pandas DataFrame\n",
    "df = session.table(\"gamestats\").to_pandas()\n",
    "\n",
    "# Step 2: Set up the plot size and create a jointplot\n",
    "plt.figure(figsize=(15, 10))\n",
    "sns.jointplot(x='WINPLACEPERC', y='KILLSTREAKS', data=df, color='b')\n",
    "\n",
    "# Step 3: Add axis labels\n",
    "plt.xlabel('Win Place Percentage', fontsize=15)\n",
    "plt.ylabel('Kill Streaks', fontsize=13)\n",
    "\n",
    "# Step 4: Display the plot in Streamlit\n",
    "st.pyplot(plt)"
   ]
  },
  {
   "cell_type": "code",
   "execution_count": null,
   "id": "52b33d5c-83d7-47f6-a41d-839ee169670e",
   "metadata": {
    "collapsed": false,
    "language": "python",
    "name": "DamagevsWins"
   },
   "outputs": [],
   "source": [
    "\n",
    "# Step 1: Set up the jointplot\n",
    "joint_plot = sns.jointplot(x='WINPLACEPERC', y='DAMAGEDEALT', data=df, kind='scatter', color='b')\n",
    "\n",
    "# Step 2: Customize plot with labels\n",
    "joint_plot.set_axis_labels('Win Place Percentage', 'Damage Dealt', fontsize=15)\n",
    "\n",
    "# Step 3: Add a title using suptitle (since jointplot doesn't work well with plt.title)\n",
    "plt.suptitle('Win Place vs Damage Dealt', y=1.03, fontsize=16)\n",
    "\n",
    "# Step 4: Display the plot in Streamlit\n",
    "st.pyplot(plt)"
   ]
  },
  {
   "cell_type": "code",
   "execution_count": null,
   "id": "b083f010-67b9-4d9c-b569-49cfa8e4a425",
   "metadata": {
    "collapsed": false,
    "language": "python",
    "name": "OwnTeamLethal"
   },
   "outputs": [],
   "source": [
    "print('The average person kills {:.4f} players on their own team'.format(df['TEAMKILLS'].mean()))\n",
    "print('50% of people have killed ',df['TEAMKILLS'].quantile(0.50),' team players')\n",
    "print('75% of people have killed ',df['TEAMKILLS'].quantile(0.75),' team players')\n",
    "print('99% of people have killed ',df['TEAMKILLS'].quantile(0.99),' team players')\n",
    "print('while the most kills recorded in the data is', df['TEAMKILLS'].max())"
   ]
  },
  {
   "cell_type": "code",
   "execution_count": null,
   "id": "859bf245-090b-4991-a76b-e6be39b9c4ef",
   "metadata": {
    "collapsed": false,
    "language": "python",
    "name": "TeamLethalOverWins"
   },
   "outputs": [],
   "source": [
    "# Step 1: Load the data from Snowflake into a Pandas DataFrame\n",
    "df = session.table(\"gamestats\").to_pandas()\n",
    "\n",
    "# Step 2: Set up the plot size and create a jointplot\n",
    "plt.figure(figsize=(15, 10))\n",
    "sns.jointplot(x='WINPLACEPERC', y='TEAMKILLS', data=df, color='b')\n",
    "\n",
    "# Step 3: Add axis labels\n",
    "plt.xlabel('Win Place Percentage', fontsize=15)\n",
    "plt.ylabel('Team Kills', fontsize=13)\n",
    "\n",
    "# Step 4: Display the plot in Streamlit\n",
    "st.pyplot(plt)"
   ]
  },
  {
   "cell_type": "code",
   "execution_count": null,
   "id": "540c6b85-0314-476e-b57b-a9988ee82e21",
   "metadata": {
    "collapsed": false,
    "language": "python",
    "name": "DistanceTravelled"
   },
   "outputs": [],
   "source": [
    "data = df[['WINPLACEPERC']].copy()\n",
    "data['TOTALDISTANCE'] = df['WALKDISTANCE'] + df['RIDEDISTANCE'] + df['SWIMDISTANCE']\n",
    "\n",
    "# Summary statistics for the total distance travelled\n",
    "print('The average person travelled {:.2f} m'.format(data['TOTALDISTANCE'].mean()))\n",
    "print('25% of people have travelled {:.2f} m or less'.format(data['TOTALDISTANCE'].quantile(0.25)))\n",
    "print('50% of people have travelled {:.2f} m or less'.format(data['TOTALDISTANCE'].quantile(0.50)))\n",
    "print('75% of people have travelled {:.2f} m or less'.format(data['TOTALDISTANCE'].quantile(0.75)))\n",
    "print('99% of people have travelled {:.2f} m or less'.format(data['TOTALDISTANCE'].quantile(0.99)))\n",
    "print('The longest distance travelled in the data is {:.2f} m'.format(data['TOTALDISTANCE'].max()))\n"
   ]
  },
  {
   "cell_type": "code",
   "execution_count": null,
   "id": "2dd923ca-5525-4a7d-ad4c-41c288545245",
   "metadata": {
    "collapsed": false,
    "language": "python",
    "name": "DistanceOverWins"
   },
   "outputs": [],
   "source": [
    "data = df[['WINPLACEPERC']].copy()\n",
    "data['TOTALDISTANCE'] = df['WALKDISTANCE'] + df['RIDEDISTANCE'] + df['SWIMDISTANCE']\n",
    "\n",
    "\n",
    "# Step 2: Set up the plot size and create a jointplot\n",
    "plt.figure(figsize=(15, 10))\n",
    "sns.jointplot(x='WINPLACEPERC', y='TOTALDISTANCE', data=data, color='b')\n",
    "\n",
    "# Step 3: Add axis labels\n",
    "plt.xlabel('Win Place Percentage', fontsize=15)\n",
    "plt.ylabel('Team Kills', fontsize=13)\n",
    "\n",
    "# Step 4: Display the plot in Streamlit\n",
    "st.pyplot(plt)"
   ]
  },
  {
   "cell_type": "code",
   "execution_count": null,
   "id": "713acef6-4539-4484-bf29-0accf9bb7001",
   "metadata": {
    "collapsed": false,
    "language": "python",
    "name": "HealingInsights"
   },
   "outputs": [],
   "source": [
    "# Summary statistics for the number of healing items used\n",
    "print('The average person uses {:.2f} healing items'.format(df['HEALS'].mean()))\n",
    "print('50% of people used {:.2f} healing items'.format(df['HEALS'].quantile(0.50)))\n",
    "print('75% of people used {:.2f} healing items or less'.format(df['HEALS'].quantile(0.75)))\n",
    "print('99% of people used {:.2f} healing items or less'.format(df['HEALS'].quantile(0.99)))\n",
    "print('The doctor of the data used {:.2f} healing items'.format(df['HEALS'].max()))"
   ]
  },
  {
   "cell_type": "code",
   "execution_count": null,
   "id": "397effd6-5ff2-40dd-8f95-f61d0f089813",
   "metadata": {
    "collapsed": false,
    "language": "python",
    "name": "BoostsInsights"
   },
   "outputs": [],
   "source": [
    "# Summary statistics for the number of boosting items used\n",
    "print('The average person uses {:.2f} boosting items'.format(df['BOOSTS'].mean()))\n",
    "print('50% of people used {:.2f} boosting items'.format(df['BOOSTS'].quantile(0.50)))\n",
    "print('75% of people used {:.2f} boosting items or less'.format(df['BOOSTS'].quantile(0.75)))\n",
    "print('99% of people used {:.2f} boosting items or less'.format(df['BOOSTS'].quantile(0.99)))\n",
    "print('The addict of the data used {:.2f} boosting items'.format(df['BOOSTS'].max()))"
   ]
  },
  {
   "cell_type": "code",
   "execution_count": null,
   "id": "2982c64a-112a-41d9-aa56-6e0d84d0000c",
   "metadata": {
    "collapsed": false,
    "language": "python",
    "name": "HealsandBoostsWins"
   },
   "outputs": [],
   "source": [
    "# Assume df is your DataFrame\n",
    "data = df.copy()\n",
    "\n",
    "# Filter out the top 1% to remove outliers\n",
    "data = data[data['HEALS'] < data['HEALS'].quantile(0.99)]\n",
    "data = data[data['BOOSTS'] < data['BOOSTS'].quantile(0.99)]\n",
    "\n",
    "# Drop missing values\n",
    "data = data.dropna(subset=['HEALS', 'BOOSTS', 'WINPLACEPERC'])\n",
    "\n",
    "# Check if the DataFrame is empty\n",
    "if data.empty:\n",
    "    st.write(\"No data to display after filtering.\")\n",
    "else:\n",
    "    # Create the figure and axes\n",
    "    f, ax1 = plt.subplots(figsize=(20, 10))\n",
    "\n",
    "    # Plot the data\n",
    "    sns.pointplot(x='HEALS', y='WINPLACEPERC', data=data, color='red', alpha=1.0, ax=ax1)\n",
    "    sns.pointplot(x='BOOSTS', y='WINPLACEPERC', data=data, color='blue', alpha=0.8, ax=ax1)\n",
    "\n",
    "    # Add text labels\n",
    "    plt.text(4, 0.6, 'HEALS', color='red', fontsize=17, style='italic')\n",
    "    plt.text(4, 0.55, 'BOOSTS', color='blue', fontsize=17, style='italic')\n",
    "\n",
    "    # Set labels and title\n",
    "    plt.xlabel('Number of heal/boost items', fontsize=15, color='blue')\n",
    "    plt.ylabel('Win Percentage', fontsize=15, color='blue')\n",
    "    plt.title('HEALS vs BOOSTS', fontsize=20, color='blue')\n",
    "\n",
    "    # Show grid\n",
    "    plt.grid()\n",
    "\n",
    "    # Display the plot in Streamlit\n",
    "    st.pyplot(f)"
   ]
  },
  {
   "cell_type": "code",
   "execution_count": null,
   "id": "8089125a-42d1-41da-9df6-a81044d2abcc",
   "metadata": {
    "collapsed": false,
    "language": "python",
    "name": "FeatureCorrelation"
   },
   "outputs": [],
   "source": [
    "# Select only numeric columns for correlation\n",
    "numeric_df = df.select_dtypes(include=[np.number])\n",
    "    \n",
    "# Compute the correlation matrix\n",
    "corr_matrix = numeric_df.corr()\n",
    "    \n",
    "# Display the correlation matrix\n",
    "st.subheader('Correlation Matrix')\n",
    "st.dataframe(corr_matrix)\n",
    "    \n",
    "# Plot the heatmap\n",
    "st.subheader('Correlation Heatmap')\n",
    "fig, ax = plt.subplots(figsize=(15, 15))\n",
    "sns.heatmap(corr_matrix, annot=True, linewidths=.5, fmt='.2f', ax=ax)\n",
    "    \n",
    "# Display the matplotlib figure in Streamlit\n",
    "st.pyplot(fig)\n",
    "\n",
    "\n",
    "# Step 7: Clear the figure to avoid duplication\n",
    "plt.clf()\n",
    "plt.close()"
   ]
  }
 ]
}